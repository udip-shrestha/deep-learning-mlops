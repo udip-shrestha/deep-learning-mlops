{
 "cells": [
  {
   "cell_type": "code",
   "execution_count": 1,
   "id": "42ad7c05",
   "metadata": {},
   "outputs": [
    {
     "name": "stdout",
     "output_type": "stream",
     "text": [
      "{'name': 'John Doe', 'Email': 'johndoe@gmail.com'}\n",
      "<class 'dict'>\n"
     ]
    }
   ],
   "source": [
    "import yaml\n",
    "\n",
    "yaml_file_path = \"test.yaml\"\n",
    "\n",
    "# Opens YAML file and loads its contents\n",
    "with open(yaml_file_path, 'r') as yaml_file:\n",
    "    data = yaml.safe_load(yaml_file)\n",
    "\n",
    "\n",
    "print(data)\n",
    "print(type(data))\n",
    "\n"
   ]
  },
  {
   "cell_type": "code",
   "execution_count": 2,
   "id": "b9515ff8",
   "metadata": {},
   "outputs": [
    {
     "data": {
      "text/plain": [
       "'John Doe'"
      ]
     },
     "execution_count": 2,
     "metadata": {},
     "output_type": "execute_result"
    }
   ],
   "source": [
    "data[\"name\"]"
   ]
  },
  {
   "cell_type": "code",
   "execution_count": 3,
   "id": "0e6c091a",
   "metadata": {},
   "outputs": [
    {
     "data": {
      "text/plain": [
       "'johndoe@gmail.com'"
      ]
     },
     "execution_count": 3,
     "metadata": {},
     "output_type": "execute_result"
    }
   ],
   "source": [
    "data[\"Email\"]"
   ]
  },
  {
   "cell_type": "code",
   "execution_count": 4,
   "id": "0fe20298",
   "metadata": {},
   "outputs": [
    {
     "data": {
      "text/plain": [
       "'John Doe'"
      ]
     },
     "execution_count": 4,
     "metadata": {},
     "output_type": "execute_result"
    }
   ],
   "source": [
    "from box import ConfigBox\n",
    "\n",
    "config_data = ConfigBox(data)\n",
    "\n",
    "config_data.name"
   ]
  },
  {
   "cell_type": "code",
   "execution_count": 5,
   "id": "4b1f432e",
   "metadata": {},
   "outputs": [
    {
     "data": {
      "text/plain": [
       "str"
      ]
     },
     "execution_count": 5,
     "metadata": {},
     "output_type": "execute_result"
    }
   ],
   "source": [
    "type(config_data.Email)"
   ]
  },
  {
   "cell_type": "code",
   "execution_count": 7,
   "id": "2c1322e2",
   "metadata": {},
   "outputs": [],
   "source": [
    "def get_product(x:int, y:int):\n",
    "    return x*y"
   ]
  },
  {
   "cell_type": "code",
   "execution_count": 9,
   "id": "a0fefde9",
   "metadata": {},
   "outputs": [
    {
     "data": {
      "text/plain": [
       "60"
      ]
     },
     "execution_count": 9,
     "metadata": {},
     "output_type": "execute_result"
    }
   ],
   "source": [
    "get_product(x=6,y=10)"
   ]
  },
  {
   "cell_type": "code",
   "execution_count": 11,
   "id": "78d18ea9",
   "metadata": {},
   "outputs": [
    {
     "data": {
      "text/plain": [
       "'99999'"
      ]
     },
     "execution_count": 11,
     "metadata": {},
     "output_type": "execute_result"
    }
   ],
   "source": [
    "get_product(x=5,y=\"9\")"
   ]
  },
  {
   "cell_type": "code",
   "execution_count": 12,
   "id": "3c53ece8",
   "metadata": {},
   "outputs": [],
   "source": [
    "from ensure import ensure_annotations"
   ]
  },
  {
   "cell_type": "code",
   "execution_count": 13,
   "id": "3a8bbf3f",
   "metadata": {},
   "outputs": [],
   "source": [
    "@ensure_annotations\n",
    "def get_product(x:int, y:int):\n",
    "    return x*y"
   ]
  },
  {
   "cell_type": "code",
   "execution_count": 14,
   "id": "a9aee1ab",
   "metadata": {},
   "outputs": [
    {
     "data": {
      "text/plain": [
       "48"
      ]
     },
     "execution_count": 14,
     "metadata": {},
     "output_type": "execute_result"
    }
   ],
   "source": [
    "get_product(x=6,y=8)"
   ]
  },
  {
   "cell_type": "code",
   "execution_count": 16,
   "id": "6b6710cf",
   "metadata": {},
   "outputs": [],
   "source": [
    "\n",
    "import gdown"
   ]
  },
  {
   "cell_type": "markdown",
   "id": "e4f8b0b8",
   "metadata": {},
   "source": [
    "# Download data from google drive"
   ]
  },
  {
   "cell_type": "code",
   "execution_count": 17,
   "id": "7fd6ae43",
   "metadata": {},
   "outputs": [],
   "source": [
    "import gdown"
   ]
  },
  {
   "cell_type": "code",
   "execution_count": 35,
   "id": "47203e43",
   "metadata": {},
   "outputs": [],
   "source": [
    "url = \"https://drive.google.com/file/d/1dqiLgcs2fbSvPiXZtwx7AVGNnepYYnge/view?usp=drive_link\""
   ]
  },
  {
   "cell_type": "code",
   "execution_count": 36,
   "id": "c3a0a2a7",
   "metadata": {},
   "outputs": [
    {
     "data": {
      "text/plain": [
       "['https:',\n",
       " '',\n",
       " 'drive.google.com',\n",
       " 'file',\n",
       " 'd',\n",
       " '1dqiLgcs2fbSvPiXZtwx7AVGNnepYYnge',\n",
       " 'view?usp=drive_link']"
      ]
     },
     "execution_count": 36,
     "metadata": {},
     "output_type": "execute_result"
    }
   ],
   "source": [
    "url.split(\"/\")"
   ]
  },
  {
   "cell_type": "code",
   "execution_count": 37,
   "id": "de51673f",
   "metadata": {},
   "outputs": [
    {
     "data": {
      "text/plain": [
       "'1dqiLgcs2fbSvPiXZtwx7AVGNnepYYnge'"
      ]
     },
     "execution_count": 37,
     "metadata": {},
     "output_type": "execute_result"
    }
   ],
   "source": [
    "file_id = url.split(\"/\")[5]\n",
    "file_id"
   ]
  },
  {
   "cell_type": "code",
   "execution_count": 38,
   "id": "5e98ecec",
   "metadata": {},
   "outputs": [],
   "source": [
    "prefix = \"https://drive.google.com/uc?id=\"\n",
    "download_url = prefix + file_id\n"
   ]
  },
  {
   "cell_type": "code",
   "execution_count": 39,
   "id": "e16e31ef",
   "metadata": {},
   "outputs": [],
   "source": [
    "download_url = \"https://drive.google.com/uc?id=1dqiLgcs2fbSvPiXZtwx7AVGNnepYYnge'\"\n"
   ]
  },
  {
   "cell_type": "code",
   "execution_count": 41,
   "id": "4c2be32e",
   "metadata": {},
   "outputs": [
    {
     "name": "stderr",
     "output_type": "stream",
     "text": [
      "Downloading...\n",
      "From (original): https://drive.google.com/uc?id=1dqiLgcs2fbSvPiXZtwx7AVGNnepYYnge\n",
      "From (redirected): https://drive.google.com/uc?id=1dqiLgcs2fbSvPiXZtwx7AVGNnepYYnge&confirm=t&uuid=330f14af-f18c-4834-984d-3bf199cd039f\n",
      "To: c:\\Users\\shres\\Documents\\deep-learning-mlops\\research\\archive(6).zip\n",
      "100%|██████████| 2.19G/2.19G [01:25<00:00, 25.6MB/s]\n"
     ]
    },
    {
     "data": {
      "text/plain": [
       "'archive(6).zip'"
      ]
     },
     "execution_count": 41,
     "metadata": {},
     "output_type": "execute_result"
    }
   ],
   "source": [
    "gdown.download(\"https://drive.google.com/uc?id=1dqiLgcs2fbSvPiXZtwx7AVGNnepYYnge\", \"archive(6).zip\", quiet=False)\n"
   ]
  }
 ],
 "metadata": {
  "kernelspec": {
   "display_name": "satellite",
   "language": "python",
   "name": "python3"
  },
  "language_info": {
   "codemirror_mode": {
    "name": "ipython",
    "version": 3
   },
   "file_extension": ".py",
   "mimetype": "text/x-python",
   "name": "python",
   "nbconvert_exporter": "python",
   "pygments_lexer": "ipython3",
   "version": "3.8.20"
  }
 },
 "nbformat": 4,
 "nbformat_minor": 5
}
